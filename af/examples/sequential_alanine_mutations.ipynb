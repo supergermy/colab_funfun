{
  "nbformat": 4,
  "nbformat_minor": 0,
  "metadata": {
    "colab": {
      "provenance": [],
      "authorship_tag": "ABX9TyP/lZJ4fjLQqHORiOcmreSb",
      "include_colab_link": true
    },
    "kernelspec": {
      "name": "python3",
      "display_name": "Python 3"
    },
    "language_info": {
      "name": "python"
    },
    "accelerator": "GPU",
    "gpuClass": "standard",
    "widgets": {
      "application/vnd.jupyter.widget-state+json": {
        "0d8ebbc78abb4cc8ba38893041b0b2f8": {
          "model_module": "@jupyter-widgets/controls",
          "model_name": "HBoxModel",
          "model_module_version": "1.5.0",
          "state": {
            "_dom_classes": [],
            "_model_module": "@jupyter-widgets/controls",
            "_model_module_version": "1.5.0",
            "_model_name": "HBoxModel",
            "_view_count": null,
            "_view_module": "@jupyter-widgets/controls",
            "_view_module_version": "1.5.0",
            "_view_name": "HBoxView",
            "box_style": "",
            "children": [
              "IPY_MODEL_2541fcf247db4a16a757492bc1ce8742",
              "IPY_MODEL_e935217f96444fa3bfaf136872ac84ee",
              "IPY_MODEL_50eb64dc7daa457f8747edfbc73a2779"
            ],
            "layout": "IPY_MODEL_2124b6c0c5fe41cb99f3f722a6a093f0"
          }
        },
        "2541fcf247db4a16a757492bc1ce8742": {
          "model_module": "@jupyter-widgets/controls",
          "model_name": "HTMLModel",
          "model_module_version": "1.5.0",
          "state": {
            "_dom_classes": [],
            "_model_module": "@jupyter-widgets/controls",
            "_model_module_version": "1.5.0",
            "_model_name": "HTMLModel",
            "_view_count": null,
            "_view_module": "@jupyter-widgets/controls",
            "_view_module_version": "1.5.0",
            "_view_name": "HTMLView",
            "description": "",
            "description_tooltip": null,
            "layout": "IPY_MODEL_2ad08247a6b542cf821e6bf3c90bf82a",
            "placeholder": "​",
            "style": "IPY_MODEL_2b6fe6d81c084bf59b78e121bacbd57a",
            "value": "  0%"
          }
        },
        "e935217f96444fa3bfaf136872ac84ee": {
          "model_module": "@jupyter-widgets/controls",
          "model_name": "FloatProgressModel",
          "model_module_version": "1.5.0",
          "state": {
            "_dom_classes": [],
            "_model_module": "@jupyter-widgets/controls",
            "_model_module_version": "1.5.0",
            "_model_name": "FloatProgressModel",
            "_view_count": null,
            "_view_module": "@jupyter-widgets/controls",
            "_view_module_version": "1.5.0",
            "_view_name": "ProgressView",
            "bar_style": "",
            "description": "",
            "description_tooltip": null,
            "layout": "IPY_MODEL_a4f8f21b04c642fb8eaca7ff9e869e29",
            "max": 300,
            "min": 0,
            "orientation": "horizontal",
            "style": "IPY_MODEL_ba51f6d54c144fefac17b93fdeae7cd4",
            "value": 0
          }
        },
        "50eb64dc7daa457f8747edfbc73a2779": {
          "model_module": "@jupyter-widgets/controls",
          "model_name": "HTMLModel",
          "model_module_version": "1.5.0",
          "state": {
            "_dom_classes": [],
            "_model_module": "@jupyter-widgets/controls",
            "_model_module_version": "1.5.0",
            "_model_name": "HTMLModel",
            "_view_count": null,
            "_view_module": "@jupyter-widgets/controls",
            "_view_module_version": "1.5.0",
            "_view_name": "HTMLView",
            "description": "",
            "description_tooltip": null,
            "layout": "IPY_MODEL_f7f30c09f9774c358995764aa35ccf8d",
            "placeholder": "​",
            "style": "IPY_MODEL_0990a89bc1524ee991154d02da766dba",
            "value": " 0/300 [elapsed: 00:00 remaining: ?]"
          }
        },
        "2124b6c0c5fe41cb99f3f722a6a093f0": {
          "model_module": "@jupyter-widgets/base",
          "model_name": "LayoutModel",
          "model_module_version": "1.2.0",
          "state": {
            "_model_module": "@jupyter-widgets/base",
            "_model_module_version": "1.2.0",
            "_model_name": "LayoutModel",
            "_view_count": null,
            "_view_module": "@jupyter-widgets/base",
            "_view_module_version": "1.2.0",
            "_view_name": "LayoutView",
            "align_content": null,
            "align_items": null,
            "align_self": null,
            "border": null,
            "bottom": null,
            "display": null,
            "flex": null,
            "flex_flow": null,
            "grid_area": null,
            "grid_auto_columns": null,
            "grid_auto_flow": null,
            "grid_auto_rows": null,
            "grid_column": null,
            "grid_gap": null,
            "grid_row": null,
            "grid_template_areas": null,
            "grid_template_columns": null,
            "grid_template_rows": null,
            "height": null,
            "justify_content": null,
            "justify_items": null,
            "left": null,
            "margin": null,
            "max_height": null,
            "max_width": null,
            "min_height": null,
            "min_width": null,
            "object_fit": null,
            "object_position": null,
            "order": null,
            "overflow": null,
            "overflow_x": null,
            "overflow_y": null,
            "padding": null,
            "right": null,
            "top": null,
            "visibility": null,
            "width": null
          }
        },
        "2ad08247a6b542cf821e6bf3c90bf82a": {
          "model_module": "@jupyter-widgets/base",
          "model_name": "LayoutModel",
          "model_module_version": "1.2.0",
          "state": {
            "_model_module": "@jupyter-widgets/base",
            "_model_module_version": "1.2.0",
            "_model_name": "LayoutModel",
            "_view_count": null,
            "_view_module": "@jupyter-widgets/base",
            "_view_module_version": "1.2.0",
            "_view_name": "LayoutView",
            "align_content": null,
            "align_items": null,
            "align_self": null,
            "border": null,
            "bottom": null,
            "display": null,
            "flex": null,
            "flex_flow": null,
            "grid_area": null,
            "grid_auto_columns": null,
            "grid_auto_flow": null,
            "grid_auto_rows": null,
            "grid_column": null,
            "grid_gap": null,
            "grid_row": null,
            "grid_template_areas": null,
            "grid_template_columns": null,
            "grid_template_rows": null,
            "height": null,
            "justify_content": null,
            "justify_items": null,
            "left": null,
            "margin": null,
            "max_height": null,
            "max_width": null,
            "min_height": null,
            "min_width": null,
            "object_fit": null,
            "object_position": null,
            "order": null,
            "overflow": null,
            "overflow_x": null,
            "overflow_y": null,
            "padding": null,
            "right": null,
            "top": null,
            "visibility": null,
            "width": null
          }
        },
        "2b6fe6d81c084bf59b78e121bacbd57a": {
          "model_module": "@jupyter-widgets/controls",
          "model_name": "DescriptionStyleModel",
          "model_module_version": "1.5.0",
          "state": {
            "_model_module": "@jupyter-widgets/controls",
            "_model_module_version": "1.5.0",
            "_model_name": "DescriptionStyleModel",
            "_view_count": null,
            "_view_module": "@jupyter-widgets/base",
            "_view_module_version": "1.2.0",
            "_view_name": "StyleView",
            "description_width": ""
          }
        },
        "a4f8f21b04c642fb8eaca7ff9e869e29": {
          "model_module": "@jupyter-widgets/base",
          "model_name": "LayoutModel",
          "model_module_version": "1.2.0",
          "state": {
            "_model_module": "@jupyter-widgets/base",
            "_model_module_version": "1.2.0",
            "_model_name": "LayoutModel",
            "_view_count": null,
            "_view_module": "@jupyter-widgets/base",
            "_view_module_version": "1.2.0",
            "_view_name": "LayoutView",
            "align_content": null,
            "align_items": null,
            "align_self": null,
            "border": null,
            "bottom": null,
            "display": null,
            "flex": null,
            "flex_flow": null,
            "grid_area": null,
            "grid_auto_columns": null,
            "grid_auto_flow": null,
            "grid_auto_rows": null,
            "grid_column": null,
            "grid_gap": null,
            "grid_row": null,
            "grid_template_areas": null,
            "grid_template_columns": null,
            "grid_template_rows": null,
            "height": null,
            "justify_content": null,
            "justify_items": null,
            "left": null,
            "margin": null,
            "max_height": null,
            "max_width": null,
            "min_height": null,
            "min_width": null,
            "object_fit": null,
            "object_position": null,
            "order": null,
            "overflow": null,
            "overflow_x": null,
            "overflow_y": null,
            "padding": null,
            "right": null,
            "top": null,
            "visibility": null,
            "width": null
          }
        },
        "ba51f6d54c144fefac17b93fdeae7cd4": {
          "model_module": "@jupyter-widgets/controls",
          "model_name": "ProgressStyleModel",
          "model_module_version": "1.5.0",
          "state": {
            "_model_module": "@jupyter-widgets/controls",
            "_model_module_version": "1.5.0",
            "_model_name": "ProgressStyleModel",
            "_view_count": null,
            "_view_module": "@jupyter-widgets/base",
            "_view_module_version": "1.2.0",
            "_view_name": "StyleView",
            "bar_color": null,
            "description_width": ""
          }
        },
        "f7f30c09f9774c358995764aa35ccf8d": {
          "model_module": "@jupyter-widgets/base",
          "model_name": "LayoutModel",
          "model_module_version": "1.2.0",
          "state": {
            "_model_module": "@jupyter-widgets/base",
            "_model_module_version": "1.2.0",
            "_model_name": "LayoutModel",
            "_view_count": null,
            "_view_module": "@jupyter-widgets/base",
            "_view_module_version": "1.2.0",
            "_view_name": "LayoutView",
            "align_content": null,
            "align_items": null,
            "align_self": null,
            "border": null,
            "bottom": null,
            "display": null,
            "flex": null,
            "flex_flow": null,
            "grid_area": null,
            "grid_auto_columns": null,
            "grid_auto_flow": null,
            "grid_auto_rows": null,
            "grid_column": null,
            "grid_gap": null,
            "grid_row": null,
            "grid_template_areas": null,
            "grid_template_columns": null,
            "grid_template_rows": null,
            "height": null,
            "justify_content": null,
            "justify_items": null,
            "left": null,
            "margin": null,
            "max_height": null,
            "max_width": null,
            "min_height": null,
            "min_width": null,
            "object_fit": null,
            "object_position": null,
            "order": null,
            "overflow": null,
            "overflow_x": null,
            "overflow_y": null,
            "padding": null,
            "right": null,
            "top": null,
            "visibility": null,
            "width": null
          }
        },
        "0990a89bc1524ee991154d02da766dba": {
          "model_module": "@jupyter-widgets/controls",
          "model_name": "DescriptionStyleModel",
          "model_module_version": "1.5.0",
          "state": {
            "_model_module": "@jupyter-widgets/controls",
            "_model_module_version": "1.5.0",
            "_model_name": "DescriptionStyleModel",
            "_view_count": null,
            "_view_module": "@jupyter-widgets/base",
            "_view_module_version": "1.2.0",
            "_view_name": "StyleView",
            "description_width": ""
          }
        }
      }
    }
  },
  "cells": [
    {
      "cell_type": "markdown",
      "metadata": {
        "id": "view-in-github",
        "colab_type": "text"
      },
      "source": [
        "<a href=\"https://colab.research.google.com/github/supergermy/colab_funfun/blob/main/af/examples/sequential_alanine_mutations.ipynb\" target=\"_parent\"><img src=\"https://colab.research.google.com/assets/colab-badge.svg\" alt=\"Open In Colab\"/></a>"
      ]
    },
    {
      "cell_type": "code",
      "execution_count": null,
      "metadata": {
        "colab": {
          "base_uri": "https://localhost:8080/"
        },
        "cellView": "form",
        "id": "xpo8xzDshM5L",
        "outputId": "0f601e4e-09c4-4e3c-c32b-a0952ed03a9e"
      },
      "outputs": [
        {
          "output_type": "stream",
          "name": "stdout",
          "text": [
            "installing AlphaFold...\n",
            "downloading AlphaFold params...\n"
          ]
        }
      ],
      "source": [
        "#@title install AlphaFold\n",
        "import os\n",
        "if not os.path.isdir(\"params\"):\n",
        "  print(\"installing AlphaFold...\")\n",
        "  # get code\n",
        "  os.system(\"pip -q install git+https://github.com/sokrypton/ColabDesign.git@v1.1.1\")\n",
        "  # for debugging\n",
        "  os.system(\"ln -s /usr/local/lib/python3.*/dist-packages/colabdesign colabdesign\")\n",
        "  print(\"downloading AlphaFold params...\")\n",
        "  # download params\n",
        "  os.system(\"mkdir params\")\n",
        "  os.system(\"apt-get install aria2 -qq\")\n",
        "  os.system(\"aria2c -q -x 16 https://storage.googleapis.com/alphafold/alphafold_params_2022-03-02.tar\")\n",
        "  os.system(\"tar -xf alphafold_params_2022-03-02.tar -C params\")"
      ]
    },
    {
      "cell_type": "code",
      "source": [
        "#@title af_random_alanine_mutation\n",
        "import os\n",
        "import random\n",
        "import numpy as np\n",
        "import tqdm.notebook\n",
        "from colabdesign import mk_afdesign_model, clear_mem\n",
        "from IPython.display import HTML\n",
        "import tqdm.notebook\n",
        "TQDM_BAR_FORMAT = '{l_bar}{bar}| {n_fmt}/{total_fmt} [elapsed: {elapsed} remaining: {remaining}]'\n",
        "\n",
        "#@markdown Specify sequence:\n",
        "input_sequence = \"AAELKTVISVESDPELSELIAEIARELGVDVVITRSALFEALRQVAADPAAAPAARALAEEAIAELRAVLRELLAKGYRVLLIDISVVPDELLADPTVRRLLAERLRWRAEMERELTEVLSNSLLQDGAVVLFKSFFSEEAARAFAAVLTEEAGFAAAILKVTGEPQSVTVTLTYNGVTATIEIVLLVGTHPPDVTVYLVISIDGADLPALAGKTLRVAVLVADVRSPKERLREAVERLLAALDAHPGVQLVVLLDTVAASAVRLRGGDREEVEARLREHLALLLELWRRVHARRAAAEE\" #@param {type:\"string\"}\n",
        "#num_mutations = 5 #@param {type:\"raw\"}\n",
        "\n",
        "# Prepare the AlphaFold model\n",
        "clear_mem()\n",
        "af_model = mk_afdesign_model(protocol=\"hallucination\")\n",
        "af_model.prep_inputs(length=len(input_sequence))\n",
        "\n",
        "# Create a directory for storing generated structures\n",
        "output_dir = \"random_sequential_mutations\"\n",
        "os.makedirs(output_dir, exist_ok=True)\n",
        "\n",
        "# Generate structures for randomly and sequentially mutated sequences\n",
        "seq_list = list(input_sequence)\n",
        "num_mutations = len(input_sequence)\n",
        "mutation_positions = random.sample(range(len(seq_list)), num_mutations)\n",
        "\n",
        "with tqdm.notebook.tqdm(total=af_model._len, bar_format=TQDM_BAR_FORMAT) as pbar:\n",
        "    for i, pos in enumerate(mutation_positions):\n",
        "        # Mutate the current amino acid to alanine\n",
        "        original_aa = seq_list[pos]\n",
        "        seq_list[pos] = \"A\"\n",
        "        mutated_seq = \"\".join(seq_list)\n",
        "        \n",
        "        # Predict the structure and save it\n",
        "        af_model.set_seq(mutated_seq)\n",
        "        af_model.predict(verbose=False, hard=False)\n",
        "        af_model.save_current_pdb(f\"{output_dir}/{i+1:04d}.pdb\")\n",
        "        af_model._save_results(verbose=False)\n",
        "\n",
        "        pbar.update(1)\n",
        "        \n",
        "        ## Restore the original amino acid\n",
        "        # seq_list[pos] = original_aa\n",
        "\n",
        "# Create a movie of the generated structures\n",
        "HTML(af_model.animate(dpi=100))\n"
      ],
      "metadata": {
        "colab": {
          "base_uri": "https://localhost:8080/",
          "height": 49,
          "referenced_widgets": [
            "0d8ebbc78abb4cc8ba38893041b0b2f8",
            "2541fcf247db4a16a757492bc1ce8742",
            "e935217f96444fa3bfaf136872ac84ee",
            "50eb64dc7daa457f8747edfbc73a2779",
            "2124b6c0c5fe41cb99f3f722a6a093f0",
            "2ad08247a6b542cf821e6bf3c90bf82a",
            "2b6fe6d81c084bf59b78e121bacbd57a",
            "a4f8f21b04c642fb8eaca7ff9e869e29",
            "ba51f6d54c144fefac17b93fdeae7cd4",
            "f7f30c09f9774c358995764aa35ccf8d",
            "0990a89bc1524ee991154d02da766dba"
          ]
        },
        "cellView": "form",
        "id": "IFYbK100hTrN",
        "outputId": "31a8608d-0573-487d-873b-15a5f45f863e"
      },
      "execution_count": null,
      "outputs": [
        {
          "output_type": "display_data",
          "data": {
            "text/plain": [
              "  0%|          | 0/300 [elapsed: 00:00 remaining: ?]"
            ],
            "application/vnd.jupyter.widget-view+json": {
              "version_major": 2,
              "version_minor": 0,
              "model_id": "0d8ebbc78abb4cc8ba38893041b0b2f8"
            }
          },
          "metadata": {}
        }
      ]
    }
  ]
}